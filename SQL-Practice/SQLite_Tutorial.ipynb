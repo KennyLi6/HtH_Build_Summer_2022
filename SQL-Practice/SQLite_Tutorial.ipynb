{
 "cells": [
  {
   "cell_type": "code",
   "execution_count": 227,
   "metadata": {},
   "outputs": [],
   "source": [
    "import sqlite3\n",
    "conn = sqlite3.connect('orders.db')\n",
    "cur = conn.cursor()\n"
   ]
  },
  {
   "cell_type": "code",
   "execution_count": 228,
   "metadata": {},
   "outputs": [],
   "source": [
    "# Reset Tables\n",
    "cur.execute(\"\"\"DROP TABLE IF EXISTS users\"\"\")\n",
    "cur.execute(\"\"\"DROP TABLE IF EXISTS orders\"\"\")\n",
    "conn.commit()"
   ]
  },
  {
   "cell_type": "code",
   "execution_count": 229,
   "metadata": {},
   "outputs": [],
   "source": [
    "cur.execute(\"\"\"CREATE TABLE IF NOT EXISTS users(\n",
    "   userid INT PRIMARY KEY,\n",
    "   fname TEXT,\n",
    "   lname TEXT,\n",
    "   gender TEXT);\n",
    "\"\"\")\n",
    "conn.commit()"
   ]
  },
  {
   "cell_type": "code",
   "execution_count": 230,
   "metadata": {},
   "outputs": [],
   "source": [
    "cur.execute(\"\"\"CREATE TABLE IF NOT EXISTS orders(\n",
    "    orderid INT PRIMARY KEY,\n",
    "    date TEXT,\n",
    "    userid TEXT,\n",
    "    total TEXT);\n",
    "\"\"\")\n",
    "conn.commit()"
   ]
  },
  {
   "cell_type": "code",
   "execution_count": 231,
   "metadata": {},
   "outputs": [],
   "source": [
    "cur.execute(\"\"\"INSERT INTO users(userid, fname, lname, gender) \n",
    "   VALUES('00001', 'Nik', 'Piepenbreier', 'male');\"\"\")\n",
    "conn.commit()"
   ]
  },
  {
   "cell_type": "code",
   "execution_count": 232,
   "metadata": {},
   "outputs": [],
   "source": [
    "user = ('00002', 'Lois', 'Lane', 'Female')\n",
    "cur.execute(\"INSERT INTO users VALUES(?, ?, ?, ?);\", user)\n",
    "conn.commit()"
   ]
  },
  {
   "cell_type": "code",
   "execution_count": 233,
   "metadata": {},
   "outputs": [],
   "source": [
    "more_users = [('00003', 'Peter', 'Parker', 'Male'), ('00004', 'Bruce', 'Wayne', 'male')]\n",
    "cur.executemany(\"INSERT INTO users VALUES(?,?,?,?);\",more_users)\n",
    "conn.commit()"
   ]
  },
  {
   "cell_type": "code",
   "execution_count": 234,
   "metadata": {},
   "outputs": [],
   "source": [
    "customers = [('00005', 'Stephanie', 'Stewart', 'female'), ('00006', 'Sincere', 'Sherman', 'female'), ('00007', 'Sidney', 'Horn', 'male'), ('00008', 'Litzy', 'Yates', 'female'), ('00009', 'Jaxon', 'Mills', 'male'), ('00010', 'Paul', 'Richard', 'male'), ('00011', 'Kamari', 'Holden', 'female'), ('00012', 'Gaige', 'Summers', 'female'), ('00013', 'Andrea', 'Snow', 'female'), ('00014', 'Angelica', 'Barnes', 'female'), ('00015', 'Leah', 'Pitts', 'female'), ('00016', 'Dillan', 'Olsen', 'male'), ('00017', 'Joe', 'Walsh', 'male'), ('00018', 'Reagan', 'Cooper', 'male'), ('00019', 'Aubree', 'Hogan', 'female'), ('00020', 'Avery', 'Floyd', 'male'), ('00021', 'Elianna', 'Simmons', 'female'), ('00022', 'Rodney', 'Stout', 'male'), ('00023', 'Elaine', 'Mcintosh', 'female'), ('00024', 'Myla', 'Mckenzie', 'female'), ('00025', 'Alijah', 'Horn', 'female'), ('00026', 'Rohan', 'Peterson', 'male'), ('00027', 'Irene', 'Walters', 'female'), ('00028', 'Lilia', 'Sellers', 'female'), ('00029', 'Perla', 'Jefferson', 'female'), ('00030', 'Ashley', 'Klein', 'female')]\n",
    "orders = [('00001', '2020-01-01', '00025', '178'), ('00002', '2020-01-03', '00025', '39'), ('00003', '2020-01-07', '00016', '153'), ('00004', '2020-01-10', '00015', '110'), ('00005', '2020-01-11', '00024', '219'), ('00006', '2020-01-12', '00029', '37'), ('00007', '2020-01-14', '00028', '227'), ('00008', '2020-01-18', '00010', '232'), ('00009', '2020-01-22', '00016', '236'), ('00010', '2020-01-26', '00017', '116'), ('00011', '2020-01-28', '00028', '221'), ('00012', '2020-01-31', '00021', '238'), ('00013', '2020-02-02', '00015', '177'), ('00014', '2020-02-05', '00025', '76'), ('00015', '2020-02-08', '00022', '245'), ('00016', '2020-02-12', '00008', '180'), ('00017', '2020-02-14', '00020', '190'), ('00018', '2020-02-18', '00030', '166'), ('00019', '2020-02-22', '00002', '168'), ('00020', '2020-02-26', '00021', '174'), ('00021', '2020-02-29', '00017', '126'), ('00022', '2020-03-02', '00019', '211'), ('00023', '2020-03-05', '00030', '144'), ('00024', '2020-03-09', '00012', '112'), ('00025', '2020-03-10', '00006', '45'), ('00026', '2020-03-11', '00004', '200'), ('00027', '2020-03-14', '00015', '226'), ('00028', '2020-03-17', '00030', '189'), ('00029', '2020-03-20', '00004', '152'), ('00030', '2020-03-22', '00026', '239'), ('00031', '2020-03-23', '00012', '135'), ('00032', '2020-03-24', '00013', '211'), ('00033', '2020-03-27', '00030', '226'), ('00034', '2020-03-28', '00007', '173'), ('00035', '2020-03-30', '00010', '144'), ('00036', '2020-04-01', '00017', '185'), ('00037', '2020-04-03', '00009', '95'), ('00038', '2020-04-06', '00009', '138'), ('00039', '2020-04-10', '00025', '223'), ('00040', '2020-04-12', '00019', '118'), ('00041', '2020-04-15', '00024', '132'), ('00042', '2020-04-18', '00008', '238'), ('00043', '2020-04-21', '00003', '50'), ('00044', '2020-04-25', '00019', '98'), ('00045', '2020-04-26', '00017', '167'), ('00046', '2020-04-28', '00009', '215'), ('00047', '2020-05-01', '00014', '142'), ('00048', '2020-05-05', '00022', '173'), ('00049', '2020-05-06', '00015', '80'), ('00050', '2020-05-07', '00017', '37'), ('00051', '2020-05-08', '00002', '36'), ('00052', '2020-05-10', '00022', '65'), ('00053', '2020-05-14', '00019', '110'), ('00054', '2020-05-18', '00017', '36'), ('00055', '2020-05-21', '00008', '163'), ('00056', '2020-05-24', '00024', '91'), ('00057', '2020-05-26', '00028', '154'), ('00058', '2020-05-30', '00022', '130'), ('00059', '2020-05-31', '00017', '119'), ('00060', '2020-06-01', '00024', '137'), ('00061', '2020-06-03', '00017', '206'), ('00062', '2020-06-04', '00013', '100'), ('00063', '2020-06-05', '00021', '187'), ('00064', '2020-06-09', '00025', '170'), ('00065', '2020-06-11', '00011', '149'), ('00066', '2020-06-12', '00007', '195'), ('00067', '2020-06-14', '00015', '30'), ('00068', '2020-06-16', '00002', '246'), ('00069', '2020-06-20', '00028', '163'), ('00070', '2020-06-22', '00005', '184'), ('00071', '2020-06-23', '00022', '68'), ('00072', '2020-06-27', '00013', '92'), ('00073', '2020-06-30', '00022', '149'), ('00074', '2020-07-04', '00002', '65'), ('00075', '2020-07-05', '00017', '88'), ('00076', '2020-07-09', '00007', '156'), ('00077', '2020-07-13', '00010', '26'), ('00078', '2020-07-16', '00008', '55'), ('00079', '2020-07-20', '00019', '81'), ('00080', '2020-07-22', '00011', '78'), ('00081', '2020-07-23', '00026', '166'), ('00082', '2020-07-27', '00014', '65'), ('00083', '2020-07-30', '00021', '205'), ('00084', '2020-08-01', '00026', '140'), ('00085', '2020-08-05', '00006', '236'), ('00086', '2020-08-06', '00021', '208'), ('00087', '2020-08-07', '00021', '169'), ('00088', '2020-08-08', '00004', '157'), ('00089', '2020-08-11', '00017', '71'), ('00090', '2020-08-13', '00025', '89'), ('00091', '2020-08-16', '00014', '249'), ('00092', '2020-08-18', '00012', '59'), ('00093', '2020-08-19', '00013', '121'), ('00094', '2020-08-20', '00025', '179'), ('00095', '2020-08-22', '00017', '208'), ('00096', '2020-08-26', '00024', '217'), ('00097', '2020-08-28', '00004', '206'), ('00098', '2020-08-30', '00017', '114'), ('00099', '2020-08-31', '00017', '169'), ('00100', '2020-09-02', '00022', '226')]\n",
    "cur.executemany(\"INSERT INTO users VALUES(?,?,?,?);\",customers)\n",
    "cur.executemany(\"INSERT INTO orders VALUES(?,?,?,?);\",orders)\n",
    "conn.commit()"
   ]
  },
  {
   "cell_type": "code",
   "execution_count": 235,
   "metadata": {},
   "outputs": [
    {
     "name": "stdout",
     "output_type": "stream",
     "text": [
      "(1, 'Nik', 'Piepenbreier', 'male')\n"
     ]
    }
   ],
   "source": [
    "cur.execute(\"SELECT * FROM users;\")\n",
    "one_result = cur.fetchone()\n",
    "print(one_result)"
   ]
  },
  {
   "cell_type": "code",
   "execution_count": 236,
   "metadata": {},
   "outputs": [
    {
     "name": "stdout",
     "output_type": "stream",
     "text": [
      "[(1, 'Nik', 'Piepenbreier', 'male'), (2, 'Lois', 'Lane', 'Female'), (3, 'Peter', 'Parker', 'Male')]\n",
      "[(4, 'Bruce', 'Wayne', 'male')]\n"
     ]
    }
   ],
   "source": [
    "cur.execute(\"SELECT * FROM users;\")\n",
    "three_results = cur.fetchmany(3)\n",
    "print(three_results)\n",
    "print(cur.fetchmany(1)) #Continues from spot of last fetch"
   ]
  },
  {
   "cell_type": "code",
   "execution_count": 237,
   "metadata": {},
   "outputs": [
    {
     "name": "stdout",
     "output_type": "stream",
     "text": [
      "[(1, 'Nik', 'Piepenbreier', 'male'), (2, 'Lois', 'Lane', 'Female'), (3, 'Peter', 'Parker', 'Male'), (4, 'Bruce', 'Wayne', 'male'), (5, 'Stephanie', 'Stewart', 'female'), (6, 'Sincere', 'Sherman', 'female'), (7, 'Sidney', 'Horn', 'male'), (8, 'Litzy', 'Yates', 'female'), (9, 'Jaxon', 'Mills', 'male'), (10, 'Paul', 'Richard', 'male'), (11, 'Kamari', 'Holden', 'female'), (12, 'Gaige', 'Summers', 'female'), (13, 'Andrea', 'Snow', 'female'), (14, 'Angelica', 'Barnes', 'female'), (15, 'Leah', 'Pitts', 'female'), (16, 'Dillan', 'Olsen', 'male'), (17, 'Joe', 'Walsh', 'male'), (18, 'Reagan', 'Cooper', 'male'), (19, 'Aubree', 'Hogan', 'female'), (20, 'Avery', 'Floyd', 'male'), (21, 'Elianna', 'Simmons', 'female'), (22, 'Rodney', 'Stout', 'male'), (23, 'Elaine', 'Mcintosh', 'female'), (24, 'Myla', 'Mckenzie', 'female'), (25, 'Alijah', 'Horn', 'female'), (26, 'Rohan', 'Peterson', 'male'), (27, 'Irene', 'Walters', 'female'), (28, 'Lilia', 'Sellers', 'female'), (29, 'Perla', 'Jefferson', 'female'), (30, 'Ashley', 'Klein', 'female')]\n"
     ]
    }
   ],
   "source": [
    "cur.execute(\"SELECT * FROM users;\")\n",
    "print(cur.fetchall())\n"
   ]
  },
  {
   "cell_type": "code",
   "execution_count": 238,
   "metadata": {},
   "outputs": [
    {
     "name": "stdout",
     "output_type": "stream",
     "text": [
      "[(3, 'Peter', 'Parker', 'Male')]\n"
     ]
    }
   ],
   "source": [
    "cur.execute(\"SELECT * FROM users WHERE lname='Parker'\")\n",
    "print(cur.fetchall())"
   ]
  },
  {
   "cell_type": "code",
   "execution_count": 239,
   "metadata": {},
   "outputs": [
    {
     "name": "stdout",
     "output_type": "stream",
     "text": [
      "[]\n"
     ]
    }
   ],
   "source": [
    "cur.execute(\"DELETE FROM users WHERE lname='Parker';\")\n",
    "conn.commit()\n",
    "cur.execute(\"select * from users where lname='Parker'\")\n",
    "print(cur.fetchall()) #No more pictures of Spider-man :("
   ]
  },
  {
   "cell_type": "code",
   "execution_count": 240,
   "metadata": {},
   "outputs": [
    {
     "name": "stdout",
     "output_type": "stream",
     "text": [
      "(1, '2020-01-01', '00025', '178')\n",
      "(1, 'Nik', 'Piepenbreier', 'male')\n"
     ]
    }
   ],
   "source": [
    "cur.execute(\"\"\"SELECT * FROM orders\"\"\")\n",
    "print(cur.fetchone())\n",
    "cur.execute(\"\"\"SELECT * FROM users\"\"\")\n",
    "print(cur.fetchone())"
   ]
  },
  {
   "cell_type": "code",
   "execution_count": 241,
   "metadata": {},
   "outputs": [
    {
     "name": "stdout",
     "output_type": "stream",
     "text": [
      "[(1, '2020-01-01', '00025', '178', 'Alijah', 'Horn'), (2, '2020-01-03', '00025', '39', 'Alijah', 'Horn'), (3, '2020-01-07', '00016', '153', 'Dillan', 'Olsen'), (4, '2020-01-10', '00015', '110', 'Leah', 'Pitts'), (5, '2020-01-11', '00024', '219', 'Myla', 'Mckenzie'), (6, '2020-01-12', '00029', '37', 'Perla', 'Jefferson'), (7, '2020-01-14', '00028', '227', 'Lilia', 'Sellers'), (8, '2020-01-18', '00010', '232', 'Paul', 'Richard'), (9, '2020-01-22', '00016', '236', 'Dillan', 'Olsen'), (10, '2020-01-26', '00017', '116', 'Joe', 'Walsh'), (11, '2020-01-28', '00028', '221', 'Lilia', 'Sellers'), (12, '2020-01-31', '00021', '238', 'Elianna', 'Simmons'), (13, '2020-02-02', '00015', '177', 'Leah', 'Pitts'), (14, '2020-02-05', '00025', '76', 'Alijah', 'Horn'), (15, '2020-02-08', '00022', '245', 'Rodney', 'Stout'), (16, '2020-02-12', '00008', '180', 'Litzy', 'Yates'), (17, '2020-02-14', '00020', '190', 'Avery', 'Floyd'), (18, '2020-02-18', '00030', '166', 'Ashley', 'Klein'), (19, '2020-02-22', '00002', '168', 'Lois', 'Lane'), (20, '2020-02-26', '00021', '174', 'Elianna', 'Simmons'), (21, '2020-02-29', '00017', '126', 'Joe', 'Walsh'), (22, '2020-03-02', '00019', '211', 'Aubree', 'Hogan'), (23, '2020-03-05', '00030', '144', 'Ashley', 'Klein'), (24, '2020-03-09', '00012', '112', 'Gaige', 'Summers'), (25, '2020-03-10', '00006', '45', 'Sincere', 'Sherman'), (26, '2020-03-11', '00004', '200', 'Bruce', 'Wayne'), (27, '2020-03-14', '00015', '226', 'Leah', 'Pitts'), (28, '2020-03-17', '00030', '189', 'Ashley', 'Klein'), (29, '2020-03-20', '00004', '152', 'Bruce', 'Wayne'), (30, '2020-03-22', '00026', '239', 'Rohan', 'Peterson'), (31, '2020-03-23', '00012', '135', 'Gaige', 'Summers'), (32, '2020-03-24', '00013', '211', 'Andrea', 'Snow'), (33, '2020-03-27', '00030', '226', 'Ashley', 'Klein'), (34, '2020-03-28', '00007', '173', 'Sidney', 'Horn'), (35, '2020-03-30', '00010', '144', 'Paul', 'Richard'), (36, '2020-04-01', '00017', '185', 'Joe', 'Walsh'), (37, '2020-04-03', '00009', '95', 'Jaxon', 'Mills'), (38, '2020-04-06', '00009', '138', 'Jaxon', 'Mills'), (39, '2020-04-10', '00025', '223', 'Alijah', 'Horn'), (40, '2020-04-12', '00019', '118', 'Aubree', 'Hogan'), (41, '2020-04-15', '00024', '132', 'Myla', 'Mckenzie'), (42, '2020-04-18', '00008', '238', 'Litzy', 'Yates'), (43, '2020-04-21', '00003', '50', None, None), (44, '2020-04-25', '00019', '98', 'Aubree', 'Hogan'), (45, '2020-04-26', '00017', '167', 'Joe', 'Walsh'), (46, '2020-04-28', '00009', '215', 'Jaxon', 'Mills'), (47, '2020-05-01', '00014', '142', 'Angelica', 'Barnes'), (48, '2020-05-05', '00022', '173', 'Rodney', 'Stout'), (49, '2020-05-06', '00015', '80', 'Leah', 'Pitts'), (50, '2020-05-07', '00017', '37', 'Joe', 'Walsh'), (51, '2020-05-08', '00002', '36', 'Lois', 'Lane'), (52, '2020-05-10', '00022', '65', 'Rodney', 'Stout'), (53, '2020-05-14', '00019', '110', 'Aubree', 'Hogan'), (54, '2020-05-18', '00017', '36', 'Joe', 'Walsh'), (55, '2020-05-21', '00008', '163', 'Litzy', 'Yates'), (56, '2020-05-24', '00024', '91', 'Myla', 'Mckenzie'), (57, '2020-05-26', '00028', '154', 'Lilia', 'Sellers'), (58, '2020-05-30', '00022', '130', 'Rodney', 'Stout'), (59, '2020-05-31', '00017', '119', 'Joe', 'Walsh'), (60, '2020-06-01', '00024', '137', 'Myla', 'Mckenzie'), (61, '2020-06-03', '00017', '206', 'Joe', 'Walsh'), (62, '2020-06-04', '00013', '100', 'Andrea', 'Snow'), (63, '2020-06-05', '00021', '187', 'Elianna', 'Simmons'), (64, '2020-06-09', '00025', '170', 'Alijah', 'Horn'), (65, '2020-06-11', '00011', '149', 'Kamari', 'Holden'), (66, '2020-06-12', '00007', '195', 'Sidney', 'Horn'), (67, '2020-06-14', '00015', '30', 'Leah', 'Pitts'), (68, '2020-06-16', '00002', '246', 'Lois', 'Lane'), (69, '2020-06-20', '00028', '163', 'Lilia', 'Sellers'), (70, '2020-06-22', '00005', '184', 'Stephanie', 'Stewart'), (71, '2020-06-23', '00022', '68', 'Rodney', 'Stout'), (72, '2020-06-27', '00013', '92', 'Andrea', 'Snow'), (73, '2020-06-30', '00022', '149', 'Rodney', 'Stout'), (74, '2020-07-04', '00002', '65', 'Lois', 'Lane'), (75, '2020-07-05', '00017', '88', 'Joe', 'Walsh'), (76, '2020-07-09', '00007', '156', 'Sidney', 'Horn'), (77, '2020-07-13', '00010', '26', 'Paul', 'Richard'), (78, '2020-07-16', '00008', '55', 'Litzy', 'Yates'), (79, '2020-07-20', '00019', '81', 'Aubree', 'Hogan'), (80, '2020-07-22', '00011', '78', 'Kamari', 'Holden'), (81, '2020-07-23', '00026', '166', 'Rohan', 'Peterson'), (82, '2020-07-27', '00014', '65', 'Angelica', 'Barnes'), (83, '2020-07-30', '00021', '205', 'Elianna', 'Simmons'), (84, '2020-08-01', '00026', '140', 'Rohan', 'Peterson'), (85, '2020-08-05', '00006', '236', 'Sincere', 'Sherman'), (86, '2020-08-06', '00021', '208', 'Elianna', 'Simmons'), (87, '2020-08-07', '00021', '169', 'Elianna', 'Simmons'), (88, '2020-08-08', '00004', '157', 'Bruce', 'Wayne'), (89, '2020-08-11', '00017', '71', 'Joe', 'Walsh'), (90, '2020-08-13', '00025', '89', 'Alijah', 'Horn'), (91, '2020-08-16', '00014', '249', 'Angelica', 'Barnes'), (92, '2020-08-18', '00012', '59', 'Gaige', 'Summers'), (93, '2020-08-19', '00013', '121', 'Andrea', 'Snow'), (94, '2020-08-20', '00025', '179', 'Alijah', 'Horn'), (95, '2020-08-22', '00017', '208', 'Joe', 'Walsh'), (96, '2020-08-26', '00024', '217', 'Myla', 'Mckenzie'), (97, '2020-08-28', '00004', '206', 'Bruce', 'Wayne'), (98, '2020-08-30', '00017', '114', 'Joe', 'Walsh'), (99, '2020-08-31', '00017', '169', 'Joe', 'Walsh'), (100, '2020-09-02', '00022', '226', 'Rodney', 'Stout')]\n"
     ]
    }
   ],
   "source": [
    "cur.execute(\"\"\"SELECT orders.*, users.fname, users.lname FROM orders\n",
    "    LEFT JOIN users ON users.userid=orders.userid;\"\"\")\n",
    "print(cur.fetchall())\n",
    "# Takes first and last name data from users table and then joins with orders table, where orders table is on\n",
    "# left side, and userid in orders table is the third in the tuple\n",
    "# SELECT orders.* vs SELECT *\n",
    "# SELECT * causes a duplicaiton because it fetchs the user name twice, orders.* prevents this by only choosing\n",
    "# values from orders table "
   ]
  }
 ],
 "metadata": {
  "kernelspec": {
   "display_name": "Python 3.9.7 64-bit",
   "language": "python",
   "name": "python3"
  },
  "language_info": {
   "codemirror_mode": {
    "name": "ipython",
    "version": 3
   },
   "file_extension": ".py",
   "mimetype": "text/x-python",
   "name": "python",
   "nbconvert_exporter": "python",
   "pygments_lexer": "ipython3",
   "version": "3.9.7"
  },
  "orig_nbformat": 4,
  "vscode": {
   "interpreter": {
    "hash": "aee8b7b246df8f9039afb4144a1f6fd8d2ca17a180786b69acc140d282b71a49"
   }
  }
 },
 "nbformat": 4,
 "nbformat_minor": 2
}
